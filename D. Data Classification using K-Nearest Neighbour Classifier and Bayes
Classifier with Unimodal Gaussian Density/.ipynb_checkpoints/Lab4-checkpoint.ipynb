{
 "cells": [
  {
   "cell_type": "code",
   "execution_count": 36,
   "metadata": {},
   "outputs": [],
   "source": [
    "\"\"\"\n",
    "Vikas Dangi\n",
    "B20238\n",
    "DS3-Lab 4\n",
    "\"\"\"\n",
    "# Importing modules\n",
    "import pandas as pd\n",
    "import numpy as np\n",
    "from sklearn.neighbors import KNeighborsClassifier\n",
    "from sklearn.model_selection import train_test_split\n",
    "from sklearn.metrics import accuracy_score\n",
    "from sklearn.metrics import confusion_matrix\n",
    "# import matplotlib.pyplot as plt\n",
    "# from sklearn.metrics import plot_confusion_matrix\n",
    "\n",
    "# reading the file\n",
    "df=pd.read_csv(\"SteelPlateFaults-2class.csv\")\n",
    "k=[1,3,5]\n",
    "# assigning data in X and target in y\n",
    "X=df.iloc[:,:27]\n",
    "y=df['Class']\n",
    "\n",
    "# Performing the split by taking approx 70% of data for training from both the data and the target\n",
    "#NOTE: After this we will have 70% of target from each class and then they will be clumbed together automatically to form our train data using train_test_split method\n",
    "X_train, X_test, y_train, y_test = train_test_split(X, y, test_size=0.3, random_state=42,shuffle=True)\n",
    "\n",
    "X_train.to_csv('SteelPlateFaults-train.csv',index=False)\n",
    "X_test.to_csv('SteelPlateFaults-test.csv',index=False)"
   ]
  },
  {
   "cell_type": "code",
   "execution_count": 37,
   "metadata": {},
   "outputs": [
    {
     "name": "stdout",
     "output_type": "stream",
     "text": [
      "The Confusion matrix for k= 1 is: \n",
      "[[ 81  27]\n",
      " [ 27 201]]\n",
      "The Confusion matrix for k= 3 is: \n",
      "[[ 83  25]\n",
      " [ 12 216]]\n",
      "The Confusion matrix for k= 5 is: \n",
      "[[ 82  26]\n",
      " [  9 219]]\n",
      "Accuracy of the knn algorithm with k= 1 is :  0.8392857142857143\n",
      "Accuracy of the knn algorithm with k= 3 is :  0.8898809523809523\n",
      "Accuracy of the knn algorithm with k= 5 is :  0.8958333333333334\n",
      "The maximum accuracy is for the value k= 5  that is  0.8958333333333334\n"
     ]
    }
   ],
   "source": [
    "\n",
    "#Question 1\n",
    "\n",
    "#A\n",
    "\n",
    "# Function to Calculate and print the Confusion matrix\n",
    "def ConfusionMat(n):\n",
    "    knn_clf=KNeighborsClassifier(n_neighbors=n)\n",
    "    knn_clf.fit(X_train,y_train)\n",
    "    knn_predictions=knn_clf.predict(X_test)\n",
    "    print(\"The Confusion matrix for k=\",n,\"is: \")\n",
    "    print(confusion_matrix(y_test,knn_predictions))\n",
    "\n",
    "#calling function\n",
    "for n in k:\n",
    "    ConfusionMat(n)\n",
    "\n",
    "#B\n",
    "\n",
    "# Function to Calculate and print the Classification accuracy\n",
    "def ClassificationAccuracy(n):\n",
    "    knn_clf=KNeighborsClassifier(n_neighbors=n)\n",
    "    knn_clf.fit(X_train,y_train)\n",
    "    knn_predictions=knn_clf.predict(X_test)\n",
    "    return accuracy_score(y_test,knn_predictions)\n",
    "#calling function\n",
    "mx=0\n",
    "nmax=0\n",
    "\n",
    "for n in k:\n",
    "    acc=ClassificationAccuracy(n)\n",
    "    print(\"Accuracy of the knn algorithm with k=\",n,\"is : \",acc)\n",
    "    if(acc>mx):\n",
    "        mx=acc\n",
    "        nmax=n\n",
    "print(\"The maximum accuracy is for the value k=\",nmax,\" that is \",mx)"
   ]
  },
  {
   "cell_type": "code",
   "execution_count": 38,
   "metadata": {},
   "outputs": [
    {
     "name": "stdout",
     "output_type": "stream",
     "text": [
      "The Confusion matrix for k= 1 is: \n",
      "[[104   4]\n",
      " [  9 219]]\n",
      "The Confusion matrix for k= 3 is: \n",
      "[[105   3]\n",
      " [  7 221]]\n",
      "The Confusion matrix for k= 5 is: \n",
      "[[104   4]\n",
      " [  7 221]]\n",
      "Accuracy of the knn algorithm with k= 1 is :  0.9613095238095238\n",
      "Accuracy of the knn algorithm with k= 3 is :  0.9702380952380952\n",
      "Accuracy of the knn algorithm with k= 5 is :  0.9672619047619048\n",
      "The maximum accuracy is for the value k= 3  that is  0.9702380952380952\n"
     ]
    }
   ],
   "source": [
    "# Question 2\n",
    "\n",
    "#normalisation\n",
    "X_test=(X_test-X_train.min())/(X_train.max()-X_train.min())\n",
    "X_test.to_csv(\"SteelPlateFaults-test-Normalised.csv\")\n",
    "\n",
    "#normalisation\n",
    "X_train=(X_train-X_train.min())/(X_train.max()-X_train.min())\n",
    "X_train.to_csv(\"SteelPlateFaults-train-Normalised.csv\")\n",
    "\n",
    "\n",
    "#A\n",
    "for n in k:\n",
    "    ConfusionMat(n)\n",
    "\n",
    "#B\n",
    "mx1=0\n",
    "nmax=0\n",
    "for n in k:\n",
    "    acc=ClassificationAccuracy(n)\n",
    "    print(\"Accuracy of the knn algorithm with k=\",n,\"is : \",acc)\n",
    "    if(acc>mx1):\n",
    "        mx1=acc\n",
    "        nmax=n\n",
    "print(\"The maximum accuracy is for the value k=\",nmax,\" that is \",mx1)\n"
   ]
  },
  {
   "cell_type": "code",
   "execution_count": 39,
   "metadata": {},
   "outputs": [
    {
     "name": "stdout",
     "output_type": "stream",
     "text": [
      "The accuracy of the Bayes CLassifier is  0.9465875370919882\n",
      "The Confusion matrix for k= 5 is: \n",
      "[[105  13]\n",
      " [  5 214]]\n"
     ]
    }
   ],
   "source": [
    "# Question 3\n",
    "#Dropping the correlated columns\n",
    "df=df.drop([\"X_Minimum\",\"Y_Minimum\",\"TypeOfSteel_A300\",\"TypeOfSteel_A400\"],axis=1)\n",
    "X0=df.loc[df[\"Class\"]==0]\n",
    "X1=df.loc[df[\"Class\"]==1]\n",
    "X0=X0.drop(\"Class\",axis=1)\n",
    "X1=X1.drop(\"Class\",axis=1)\n",
    "y0=df[\"Class\"].loc[df[\"Class\"]==0]\n",
    "y1=df[\"Class\"].loc[df[\"Class\"]==1]\n",
    "X_train0, X_test0, y_train0, y_test0 = train_test_split(X0, y0, test_size=0.3, random_state=42,shuffle=True)\n",
    "X_train1, X_test1, y_train1, y_test1 = train_test_split(X1, y1, test_size=0.3, random_state=42,shuffle=True)\n",
    "\n",
    "# function to calculate the likelihoood value\n",
    "def likelihood(x,D):\n",
    "    cov=D.cov()\n",
    "    mean=D.mean()\n",
    "    det=abs(np.linalg.det(cov))\n",
    "    meanminus=x-mean\n",
    "    d=len(D.columns)\n",
    "    invcov=pd.DataFrame(np.linalg.pinv(cov.values), cov.columns, cov.index)\n",
    "    # using the formula for multivariate or multimodel distribution\n",
    "    p=(1/(((2*np.pi)**(d/2))*det**0.5)) * (np.e**(-0.5*(meanminus@invcov@meanminus)))\n",
    "    return p\n",
    "\n",
    "P_C0=len(y_train0)/(len(y_train0)+len(y_train1))\n",
    "P_C1=len(y_train1)/(len(y_train0)+len(y_train1))\n",
    "Xtrain=X_train0.append(X_train1)\n",
    "Xtest=X_test0.append(X_test1)\n",
    "ytest=y_test0.append(y_test1)\n",
    "predictions=[] #to store the final predictions\n",
    "\n",
    "# to predict all the test cases\n",
    "for i in range(len(Xtest)):\n",
    "    lh0=likelihood(Xtest.iloc[i],X_train0)\n",
    "    lh1=likelihood(Xtest.iloc[i],X_train1)\n",
    "    postPosb0=P_C0*lh0/(P_C0*lh0+P_C1*lh1)\n",
    "    postPosb1=P_C1*lh1/(P_C0*lh0+P_C1*lh1)\n",
    "    if(postPosb0>=postPosb1):\n",
    "        predictions.append(0)\n",
    "    else:\n",
    "        predictions.append(1)\n",
    "mx2=accuracy_score(ytest,predictions)\n",
    "print(\"The accuracy of the Bayes CLassifier is \",mx2)\n",
    "\n",
    "print(\"The Confusion matrix for k=\",n,\"is: \")\n",
    "print(confusion_matrix(ytest,predictions))\n",
    "\n"
   ]
  },
  {
   "cell_type": "code",
   "execution_count": 40,
   "metadata": {},
   "outputs": [
    {
     "name": "stdout",
     "output_type": "stream",
     "text": [
      "The different accuracies in the above processes are  0.8958333333333334   0.9702380952380952   0.9465875370919882\n",
      "The highest we get in the  0.9702380952380952\n"
     ]
    }
   ],
   "source": [
    "#Question 4\n",
    "# printing all the accuracies and comparing them\n",
    "print(\"The different accuracies in the above processes are \",mx,\" \",mx1,\" \",mx2)\n",
    "print(\"The highest we get in the \",max(max(mx,mx1),mx2))"
   ]
  },
  {
   "cell_type": "code",
   "execution_count": null,
   "metadata": {},
   "outputs": [],
   "source": []
  }
 ],
 "metadata": {
  "interpreter": {
   "hash": "ee5cc6fef2d70a7e71ee3826687cbd150f18158e0b1eef11d4f4f92bb920e304"
  },
  "kernelspec": {
   "display_name": "Python 3 (ipykernel)",
   "language": "python",
   "name": "python3"
  },
  "language_info": {
   "codemirror_mode": {
    "name": "ipython",
    "version": 3
   },
   "file_extension": ".py",
   "mimetype": "text/x-python",
   "name": "python",
   "nbconvert_exporter": "python",
   "pygments_lexer": "ipython3",
   "version": "3.9.6"
  }
 },
 "nbformat": 4,
 "nbformat_minor": 2
}
