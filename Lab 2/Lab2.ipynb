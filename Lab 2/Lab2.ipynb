{
 "cells": [
  {
   "cell_type": "code",
   "execution_count": 36,
   "source": [
    "\"\"\"\r\n",
    "Vikas Dangi\r\n",
    "B20238\r\n",
    "DS3-Lab 2\r\n",
    "\"\"\"\r\n",
    "#Question 1\r\n",
    "import pandas as pd\r\n",
    "import numpy as np\r\n",
    "import matplotlib.pyplot as plt\r\n",
    "import math\r\n",
    "df_original=pd.read_csv(\"landslide_data3_original.csv\")\r\n",
    "df_miss=pd.read_csv(\"landslide_data3_miss.csv\")\r\n",
    "NoOfMiss=df_miss.isnull().sum()\r\n",
    "attribute_names=df_miss.columns\r\n",
    "plt.bar(attribute_names,NoOfMiss)\r\n",
    "plt.title(\"attribute names (x-axis) vs the number of missing values\")\r\n",
    "plt.xlabel(\"Attributes\")\r\n",
    "plt.ylabel(\"Number of missing values\")\r\n",
    "plt.xticks(rotation=45)\r\n",
    "plt.tight_layout()\r\n",
    "plt.show()\r\n",
    "len(df_miss['temperature'])"
   ],
   "outputs": [
    {
     "output_type": "display_data",
     "data": {
      "image/png": "[encoded data removed]",
      "text/plain": [
       "<Figure size 432x288 with 1 Axes>"
      ]
     },
     "metadata": {
      "needs_background": "light"
     }
    },
    {
     "output_type": "execute_result",
     "data": {
      "text/plain": [
       "945"
      ]
     },
     "metadata": {},
     "execution_count": 36
    }
   ],
   "metadata": {}
  },
  {
   "cell_type": "code",
   "execution_count": 37,
   "source": [
    "#Question 2\r\n",
    "#a\r\n",
    "dfnew=df_miss.dropna(subset=['stationid'])\r\n",
    "print(\"The total number of tuples deleted: \",df_miss['stationid'].size-dfnew['stationid'].size)\r\n",
    "#b\r\n",
    "l1=dfnew['stationid'].size\r\n",
    "dfnew=dfnew.dropna(thresh=dfnew.shape[1]-2)\r\n",
    "print(\"The total number of tuples deleted after new deletion: \",l1-dfnew['stationid'].size)\r\n"
   ],
   "outputs": [
    {
     "output_type": "stream",
     "name": "stdout",
     "text": [
      "The total number of tuples deleted:  19\n",
      "The total number of tuples deleted after new deletion:  35\n"
     ]
    }
   ],
   "metadata": {}
  },
  {
   "cell_type": "code",
   "execution_count": 38,
   "source": [
    "#Question 3\r\n",
    "print(\"The total number of missing values in each attributes: \")\r\n",
    "print(dfnew.isnull().sum())\r\n",
    "TotalMissNew=sum(dfnew.isnull().sum())\r\n",
    "print(\"\\nThe total number of missing values in the new Dataframe is: \", TotalMissNew)\r\n",
    "dfnew0=dfnew\r\n"
   ],
   "outputs": [
    {
     "output_type": "stream",
     "name": "stdout",
     "text": [
      "The total number of missing values in each attributes: \n",
      "dates            0\n",
      "stationid        0\n",
      "temperature     34\n",
      "humidity        13\n",
      "pressure        41\n",
      "rain             6\n",
      "lightavgw/o0    15\n",
      "lightmax         1\n",
      "moisture         6\n",
      "dtype: int64\n",
      "\n",
      "The total number of missing values in the new Dataframe is:  116\n"
     ]
    }
   ],
   "metadata": {}
  },
  {
   "cell_type": "code",
   "execution_count": 39,
   "source": [
    "#Question 4\r\n",
    "\"\"\"\r\n",
    "\r\n",
    "\"\"\"\r\n",
    "#a\r\n",
    "\r\n",
    "meanSeries=pd.Series(dfnew.mean(skipna=True,numeric_only=True),name='mean')\r\n",
    "dfnew=dfnew.fillna(meanSeries)\r\n",
    "\r\n",
    "# i)\r\n",
    "\r\n",
    "# Compute the mean, median, mode and standard deviation for each attributes after filling values\r\n",
    "medianSeries=pd.Series(dfnew.median(numeric_only=True),name=\"median\")\r\n",
    "stdSeries=pd.Series(dfnew.std(skipna=True,numeric_only=True),name='Std Deviation')\r\n",
    "modeSeries=dfnew.mode(numeric_only=True)\r\n",
    "modeSeries=modeSeries.rename(index={0:\"Mode \"})\r\n",
    "statnew=modeSeries.append(medianSeries)\r\n",
    "statnew=statnew.append(meanSeries)\r\n",
    "statnew=statnew.append(stdSeries)\r\n",
    "print(\"\\nThe values of mean, median and mode for each attribute after filling NA with mean are: \")\r\n",
    "print(statnew)\r\n",
    "\r\n",
    "\r\n",
    "# Compute the mean, median, mode and standard deviation for each attributes for the original file\r\n",
    "medianSeries=pd.Series(df_original.median(numeric_only=True),name=\"median\")\r\n",
    "stdSeries=pd.Series(df_original.std(skipna=True,numeric_only=True),name='Std Deviation')\r\n",
    "modeSeries=df_original.mode(numeric_only=True)\r\n",
    "modeSeries=modeSeries.rename(index={0:\"Mode \"})\r\n",
    "statOriginal=modeSeries.append(medianSeries)\r\n",
    "statOriginal=statOriginal.append(meanSeries)\r\n",
    "statOriginal=statOriginal.append(stdSeries)\r\n",
    "print(\"\\nThe values of mean, median and mode for each attribute of original file are: \")\r\n",
    "print(statOriginal)\r\n",
    "\r\n",
    "# ii)\r\n",
    "\r\n",
    "def RMSE(df1,df2,cname):\r\n",
    "    oldindex=list(df1.index)\r\n",
    "    countmiss=0\r\n",
    "    sumsq=0\r\n",
    "    for i in oldindex:\r\n",
    "        sumsq+=(df1[cname].loc[i]-df2[cname].loc[i])**2\r\n",
    "        if((df1[cname].loc[i]-df2[cname].loc[i])!=0):\r\n",
    "            countmiss+=1\r\n",
    "    if(countmiss==0):\r\n",
    "        return 0\r\n",
    "    else:\r\n",
    "        rmse=math.sqrt(sumsq/countmiss)\r\n",
    "    return rmse\r\n",
    "cnames=list(attribute_names)[2:10]\r\n",
    "\r\n",
    "RMSElist=[]\r\n",
    "for i in cnames:\r\n",
    "    RMSElist.append(RMSE(dfnew,df_original,i))\r\n",
    "RMSEseries=pd.Series(RMSElist,cnames)\r\n",
    "\r\n",
    "print(\"\\n The plot between Attributes and their RMSE error is: \")\r\n",
    "plt.bar(cnames,RMSElist)\r\n",
    "plt.xlabel(\"Attributes\")\r\n",
    "plt.ylabel(\"RMSE error\")\r\n",
    "plt.yscale('log')\r\n",
    "plt.xticks(rotation=45)\r\n",
    "plt.show()\r\n",
    "print(\"\\nThe RMSE between the original and replaced values for each attribute are: \")\r\n",
    "print(RMSEseries)\r\n",
    "\r\n",
    "\r\n",
    "\r\n",
    "# b\r\n",
    "\r\n",
    "# i)\r\n",
    "dfnew0=dfnew0.interpolate()\r\n",
    "# Compute the mean, median, mode and standard deviation for each attributes after linear interpolating values\r\n",
    "meanSeries=pd.Series(dfnew0.mean(skipna=True,numeric_only=True),name='mean')\r\n",
    "stdSeries=pd.Series(dfnew0.std(skipna=True,numeric_only=True),name='Std Deviation')\r\n",
    "medianSeries=pd.Series(dfnew0.median(numeric_only=True),name=\"median\")\r\n",
    "modeSeries=dfnew0.mode(numeric_only=True)\r\n",
    "modeSeries=modeSeries.rename(index={0:\"Mode \"})\r\n",
    "statnew0=modeSeries.append(medianSeries)\r\n",
    "statnew0=statnew0.append(meanSeries)\r\n",
    "statnew0=statnew0.append(stdSeries)\r\n",
    "\r\n",
    "print(\"\\nThe values of mean, median and mode for each attribute after linear interpolating are:\\n \")\r\n",
    "print(statnew0)\r\n",
    "print(\"\\nThe values of mean, median and mode for each attribute of original file are:\\n \")\r\n",
    "print(statOriginal)\r\n",
    "\r\n",
    "# ii)\r\n",
    "RMSElist0=[]\r\n",
    "for i in cnames:\r\n",
    "    print(RMSE(dfnew0,df_original,i))\r\n",
    "    RMSElist0.append(RMSE(dfnew0,df_original,i))\r\n",
    "RMSEseries0=pd.Series(RMSElist0,cnames)\r\n",
    "\r\n",
    "print(\"\\nThe RMSE between the original and interpolated values for each attribute are: \")\r\n",
    "print(RMSEseries0)\r\n",
    "\r\n",
    "print(\"\\n The plot between Attributes and their RMSE error is: \")\r\n",
    "plt.bar(cnames,RMSElist0)\r\n",
    "plt.xlabel(\"Attributes\")\r\n",
    "plt.ylabel(\"RMSE error\")\r\n",
    "plt.yscale('log')\r\n",
    "plt.xticks(rotation=45)\r\n",
    "plt.show()\r\n"
   ],
   "outputs": [
    {
     "output_type": "stream",
     "name": "stdout",
     "text": [
      "\n",
      "The values of mean, median and mode for each attribute after filling NA with mean are: \n",
      "               temperature   humidity     pressure          rain  \\\n",
      "Mode             21.052444  99.000000  1009.465871      0.000000   \n",
      "median           21.927010  91.000000  1014.482302     15.750000   \n",
      "mean             21.052444  83.125974  1009.465871  10798.378825   \n",
      "Std Deviation     4.339762  18.393926    45.855978  24833.964919   \n",
      "\n",
      "               lightavgw/o0      lightmax   moisture  \n",
      "Mode            4488.910300   4000.000000   0.000000  \n",
      "median          1502.938500   6569.000000  14.169500  \n",
      "mean            4458.297802  21463.221348  32.602872  \n",
      "Std Deviation   7606.283539  21943.889293  33.714314  \n",
      "\n",
      "The values of mean, median and mode for each attribute of original file are: \n",
      "               temperature   humidity     pressure          rain  \\\n",
      "Mode             12.727270  99.000000   789.392692      0.000000   \n",
      "median           22.272730  91.380950  1014.677832     18.000000   \n",
      "mean             21.052444  83.125974  1009.465871  10798.378825   \n",
      "Std Deviation     4.355818  18.210065    46.980477  24852.255288   \n",
      "\n",
      "               lightavgw/o0      lightmax   moisture  \n",
      "Mode            4488.910300   4000.000000   0.000000  \n",
      "median          1656.880000   6634.000000  16.704200  \n",
      "mean            4458.297802  21463.221348  32.602872  \n",
      "Std Deviation   7573.162806  22064.993089  33.653245  \n",
      "\n",
      " The plot between Attributes and their RMSE error is: \n"
     ]
    },
    {
     "output_type": "display_data",
     "data": {
      "image/png": "[encoded data removed]",
      "text/plain": [
       "<Figure size 432x288 with 1 Axes>"
      ]
     },
     "metadata": {
      "needs_background": "light"
     }
    },
    {
     "output_type": "stream",
     "name": "stdout",
     "text": [
      "\n",
      "The RMSE between the original and replaced values for each attribute are: \n",
      "temperature         3.657229\n",
      "humidity            6.953065\n",
      "pressure           21.059204\n",
      "rain            10539.429262\n",
      "lightavgw/o0     2055.502854\n",
      "lightmax         9424.778652\n",
      "moisture           37.012258\n",
      "dtype: float64\n",
      "\n",
      "The values of mean, median and mode for each attribute after linear interpolating are:\n",
      " \n",
      "               temperature   humidity     pressure          rain  \\\n",
      "Mode             12.727270  99.000000   789.392692      0.000000   \n",
      "median           22.139860  91.179860  1014.925145     15.750000   \n",
      "mean             21.114539  83.165602  1009.968097  10727.959186   \n",
      "Std Deviation     4.398734  18.408275    45.999033  24848.714822   \n",
      "\n",
      "               lightavgw/o0      lightmax   moisture  \n",
      "Mode            4488.910300   4000.000000   0.000000  \n",
      "median          1500.500000   6569.000000  13.894400  \n",
      "mean            4496.753851  21473.799102  32.528672  \n",
      "Std Deviation   7649.457776  21946.160719  33.791063  \n",
      "\n",
      "The values of mean, median and mode for each attribute of original file are:\n",
      " \n",
      "               temperature   humidity     pressure          rain  \\\n",
      "Mode             12.727270  99.000000   789.392692      0.000000   \n",
      "median           22.272730  91.380950  1014.677832     18.000000   \n",
      "mean             21.052444  83.125974  1009.465871  10798.378825   \n",
      "Std Deviation     4.355818  18.210065    46.980477  24852.255288   \n",
      "\n",
      "               lightavgw/o0      lightmax   moisture  \n",
      "Mode            4488.910300   4000.000000   0.000000  \n",
      "median          1656.880000   6634.000000  16.704200  \n",
      "mean            4458.297802  21463.221348  32.602872  \n",
      "Std Deviation   7573.162806  22064.993089  33.653245  \n",
      "1.3294361526755403\n",
      "6.323695638280403\n",
      "6.180435710552927\n",
      "233.41558632083678\n",
      "8193.859389365995\n",
      "0\n",
      "16.902426302442496\n",
      "\n",
      "The RMSE between the original and interpolated values for each attribute are: \n",
      "temperature        1.329436\n",
      "humidity           6.323696\n",
      "pressure           6.180436\n",
      "rain             233.415586\n",
      "lightavgw/o0    8193.859389\n",
      "lightmax           0.000000\n",
      "moisture          16.902426\n",
      "dtype: float64\n",
      "\n",
      " The plot between Attributes and their RMSE error is: \n"
     ]
    },
    {
     "output_type": "display_data",
     "data": {
      "image/png": "[encoded data removed]",
      "text/plain": [
       "<Figure size 432x288 with 1 Axes>"
      ]
     },
     "metadata": {
      "needs_background": "light"
     }
    }
   ],
   "metadata": {}
  },
  {
   "cell_type": "code",
   "execution_count": 40,
   "source": [
    "#Question 5\r\n",
    "#function to plot boxplots\r\n",
    "dfnew0 = dfnew0.reset_index().drop([\"index\"] , axis = 1)\r\n",
    "def plot_boxplot(clm):\r\n",
    "    plt.boxplot(dfnew0[clm])\r\n",
    "    plt.xlabel(\"DATA\")\r\n",
    "    plt.ylabel(\"Values\")\r\n",
    "    plt.show()\r\n",
    "\r\n",
    "q1 = dfnew0.quantile(0.25)\r\n",
    "q3 = dfnew0.quantile(0.75)\r\n",
    "\r\n",
    "iqr = q3 - q1\r\n",
    "\r\n",
    "# For identifying outliers\r\n",
    "def identify_outlier (clm):\r\n",
    "    outlier = []\r\n",
    "    for i in range(len(dfnew0)):\r\n",
    "        if  ((q3[clm] + (1.5 * iqr[clm])) < dfnew0[clm][i] or (dfnew0[clm][i]<(q1[clm] - 1.5 * iqr[clm]))):\r\n",
    "            outlier.append(dfnew0[clm][i])\r\n",
    "    plot_boxplot(clm)\r\n",
    "    return(outlier)\r\n",
    "\r\n",
    "# For replacing outliers\r\n",
    "def replacePlot (clm):\r\n",
    "    median_value = dfnew0[clm].median()\r\n",
    "    for i in range(len(dfnew0)):\r\n",
    "        if  (q3[clm] + (1.5 * iqr[clm])) < dfnew0[clm][i] or  (dfnew0[clm][i]<(q1[clm] - 1.5 * iqr[clm]) ):\r\n",
    "            dfnew0[clm] = dfnew0[clm].replace([dfnew0[clm][i]], median_value)\r\n",
    "    plot_boxplot(clm)\r\n",
    "\r\n",
    "\r\n",
    "clm = \"temperature\"\r\n",
    "print(\"\\nOutliers in temeperature\\n\" , identify_outlier(clm))\r\n",
    "replacePlot(clm)\r\n",
    "\r\n",
    "clm = \"rain\" \r\n",
    "print(\"\\nOutliers in Rain\\n\" ,identify_outlier(clm))\r\n",
    "replacePlot(clm)\r\n"
   ],
   "outputs": [
    {
     "output_type": "display_data",
     "data": {
      "image/png": "[encoded data removed]",
      "text/plain": [
       "<Figure size 432x288 with 1 Axes>"
      ]
     },
     "metadata": {
      "needs_background": "light"
     }
    },
    {
     "output_type": "stream",
     "name": "stdout",
     "text": [
      "\n",
      "Outliers in temeperature\n",
      " [7.6729, 7.6729, 7.6729, 7.6729, 7.6729, 7.6729, 7.6729, 7.6729, 7.6729, 7.6729]\n"
     ]
    },
    {
     "output_type": "display_data",
     "data": {
      "image/png": "[encoded data removed]",
      "text/plain": [
       "<Figure size 432x288 with 1 Axes>"
      ]
     },
     "metadata": {
      "needs_background": "light"
     }
    },
    {
     "output_type": "display_data",
     "data": {
      "image/png": "[encoded data removed]",
      "text/plain": [
       "<Figure size 432x288 with 1 Axes>"
      ]
     },
     "metadata": {
      "needs_background": "light"
     }
    },
    {
     "output_type": "stream",
     "name": "stdout",
     "text": [
      "\n",
      "Outliers in Rain\n",
      " 175\n"
     ]
    },
    {
     "output_type": "display_data",
     "data": {
      "image/png": "[encoded data removed]",
      "text/plain": [
       "<Figure size 432x288 with 1 Axes>"
      ]
     },
     "metadata": {
      "needs_background": "light"
     }
    }
   ],
   "metadata": {}
  },
  {
   "cell_type": "code",
   "execution_count": null,
   "source": [
    "def Rmse(x,y,columnname):\r\n",
    "    index=list(x.index)\r\n",
    "    countmissing=0\r\n",
    "    sumofsq=0\r\n",
    "    for i in index:\r\n",
    "        sumofsq+=(x[columnname].loc[i]-y[columnname].loc[i])**2\r\n",
    "        if(x[columnname]-y)"
   ],
   "outputs": [],
   "metadata": {}
  }
 ],
 "metadata": {
  "orig_nbformat": 4,
  "language_info": {
   "name": "python",
   "version": "3.9.6",
   "mimetype": "text/x-python",
   "codemirror_mode": {
    "name": "ipython",
    "version": 3
   },
   "pygments_lexer": "ipython3",
   "nbconvert_exporter": "python",
   "file_extension": ".py"
  },
  "kernelspec": {
   "name": "python3",
   "display_name": "Python 3.9.6 64-bit"
  },
  "interpreter": {
   "hash": "ee5cc6fef2d70a7e71ee3826687cbd150f18158e0b1eef11d4f4f92bb920e304"
  }
 },
 "nbformat": 4,
 "nbformat_minor": 2
}